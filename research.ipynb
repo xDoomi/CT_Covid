{
 "cells": [
  {
   "cell_type": "code",
   "execution_count": 1,
   "metadata": {},
   "outputs": [],
   "source": [
    "import numpy as np\n",
    "import pandas as pd\n",
    "import matplotlib.pyplot as plt\n",
    "from ipywidgets import interact, interactive, IntSlider, ToggleButtons, fixed\n",
    "%matplotlib inline"
   ]
  },
  {
   "cell_type": "code",
   "execution_count": 2,
   "metadata": {},
   "outputs": [],
   "source": [
    "kaggel_dir = 'data/Kaggle_CT/'\n",
    "medseg = kaggel_dir + 'images_medseg.npy', kaggel_dir + 'masks_medseg.npy'\n",
    "radiopedia = kaggel_dir + 'images_radiopedia.npy', kaggel_dir + 'masks_radiopedia.npy'"
   ]
  },
  {
   "cell_type": "code",
   "execution_count": 3,
   "metadata": {},
   "outputs": [],
   "source": [
    "DICT_SEGMENT = {0: \"ground glass\", \n",
    "                1: \"consolidations\", \n",
    "                2: \"lungs other\", \n",
    "                3: \"background\"}"
   ]
  },
  {
   "cell_type": "code",
   "execution_count": 4,
   "metadata": {},
   "outputs": [],
   "source": [
    "def load_np(images_path, masks_path):\n",
    "    images = np.load(images_path).astype(np.float32)\n",
    "    masks = np.load(masks_path).astype(np.int8)\n",
    "    return images, masks\n",
    "\n",
    "\n",
    "rp_images, rp_masks = load_np(radiopedia[0], radiopedia[1])\n",
    "ms_images, ms_masks = load_np(medseg[0], medseg[1])"
   ]
  },
  {
   "cell_type": "code",
   "execution_count": 5,
   "metadata": {},
   "outputs": [
    {
     "data": {
      "application/vnd.jupyter.widget-view+json": {
       "model_id": "7ccc5a7cc3bc4bbf8819c848a85da0a2",
       "version_major": 2,
       "version_minor": 0
      },
      "text/plain": [
       "interactive(children=(Dropdown(description='slice', options=(0, 1, 2, 3, 4, 5, 6, 7, 8, 9, 10, 11, 12, 13, 14,…"
      ]
     },
     "metadata": {},
     "output_type": "display_data"
    }
   ],
   "source": [
    "@interact\n",
    "def plot_ct(slice=range(rp_images.shape[0])):\n",
    "    fig, axes = plt.subplots(nrows=1, ncols=5, figsize=(16, 9))\n",
    "    axes[0].imshow(rp_images[slice, :, :], cmap='gray')\n",
    "    axes[0].set_title('CT image')\n",
    "    for i in range(4):\n",
    "        axes[i + 1].imshow(rp_masks[slice, :, :, i].squeeze())\n",
    "        axes[i + 1].set_title(DICT_SEGMENT[i])\n",
    "    fig.suptitle('Radiopedia data', y=0.68, fontsize=16)\n",
    "    plt.show()"
   ]
  },
  {
   "cell_type": "code",
   "execution_count": 6,
   "metadata": {},
   "outputs": [
    {
     "data": {
      "application/vnd.jupyter.widget-view+json": {
       "model_id": "de0c0fc70b8a4491b9a92c3765cf8314",
       "version_major": 2,
       "version_minor": 0
      },
      "text/plain": [
       "interactive(children=(Dropdown(description='slice', options=(0, 1, 2, 3, 4, 5, 6, 7, 8, 9, 10, 11, 12, 13, 14,…"
      ]
     },
     "metadata": {},
     "output_type": "display_data"
    }
   ],
   "source": [
    "@interact\n",
    "def plot_ct(slice=range(ms_images.shape[0])):\n",
    "    fig, axes = plt.subplots(nrows=1, ncols=5, figsize=(16, 9))\n",
    "    axes[0].imshow(ms_images[slice, :, :], cmap='gray')\n",
    "    axes[0].set_title('CT image')\n",
    "    for i in range(4):\n",
    "        axes[i + 1].imshow(ms_masks[slice, :, :, i].squeeze())\n",
    "        axes[i + 1].set_title(DICT_SEGMENT[i])\n",
    "    fig.suptitle('Medseg data', y=0.68, fontsize=16)\n",
    "    plt.show()"
   ]
  },
  {
   "cell_type": "code",
   "execution_count": 7,
   "metadata": {},
   "outputs": [
    {
     "data": {
      "image/png": "[encoded data removed]",
      "text/plain": [
       "<Figure size 432x288 with 2 Axes>"
      ]
     },
     "metadata": {
      "needs_background": "light"
     },
     "output_type": "display_data"
    }
   ],
   "source": [
    "from collections import Counter\n",
    "\n",
    "\n",
    "def small_stats(masks):\n",
    "    stats_counter = Counter()\n",
    "    for mask in masks:\n",
    "        for i in range(4):\n",
    "            if mask[:, :, i].sum() == 0:\n",
    "                stats_counter[DICT_SEGMENT[i] + '_zero'] += 1\n",
    "    return stats_counter\n",
    "\n",
    "\n",
    "rp_stats = small_stats(rp_masks)\n",
    "ms_stats = small_stats(ms_masks)\n",
    "\n",
    "fig, axes = plt.subplots(nrows = 2, ncols=1)\n",
    "width = 0.25\n",
    "p1 = axes[0].bar(rp_stats.keys(), rp_stats.values(), width=width)\n",
    "axes[0].bar_label(p1, label_type='center')\n",
    "\n",
    "p2 = axes[1].bar(ms_stats.keys(), ms_stats.values(), width=width)\n",
    "axes[1].bar_label(p2, label_type='center')\n",
    "plt.show()"
   ]
  },
  {
   "cell_type": "code",
   "execution_count": 8,
   "metadata": {},
   "outputs": [
    {
     "name": "stdout",
     "output_type": "stream",
     "text": [
      "Counter({'consolidations_zero': 596, 'ground glass_zero': 532, 'lungs other_zero': 116})\n",
      "dict_values([532, 596, 116])\n",
      "dict_keys(['ground glass_zero', 'consolidations_zero', 'lungs other_zero'])\n",
      "3\n"
     ]
    }
   ],
   "source": [
    "print(rp_stats)\n",
    "print(rp_stats.values())\n",
    "print(rp_stats.keys())\n",
    "print(len(rp_stats))"
   ]
  }
 ],
 "metadata": {
  "interpreter": {
   "hash": "8c54feba881f3a68f7b5a27d4e4d1bb73e34d950a7bc6ccd45248c3c4aee93f5"
  },
  "kernelspec": {
   "display_name": "Python 3.8.10 64-bit ('mlv': venv)",
   "language": "python",
   "name": "python3"
  },
  "language_info": {
   "codemirror_mode": {
    "name": "ipython",
    "version": 3
   },
   "file_extension": ".py",
   "mimetype": "text/x-python",
   "name": "python",
   "nbconvert_exporter": "python",
   "pygments_lexer": "ipython3",
   "version": "3.8.10"
  },
  "orig_nbformat": 4
 },
 "nbformat": 4,
 "nbformat_minor": 2
}
